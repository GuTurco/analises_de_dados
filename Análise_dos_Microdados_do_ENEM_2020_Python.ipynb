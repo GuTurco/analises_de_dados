{
  "nbformat": 4,
  "nbformat_minor": 0,
  "metadata": {
    "colab": {
      "name": "Análise dos Microdados do ENEM 2020 - Python.ipynb",
      "provenance": [],
      "authorship_tag": "ABX9TyNYjmIrgVbWvMqmO2VtPhtC"
    },
    "kernelspec": {
      "name": "python3",
      "display_name": "Python 3"
    },
    "language_info": {
      "name": "python"
    }
  },
  "cells": [
    {
      "cell_type": "markdown",
      "source": [
        "# **Análise dos Microdados do ENEM 2020**"
      ],
      "metadata": {
        "id": "CYyvs-KdVHCU"
      }
    },
    {
      "cell_type": "markdown",
      "source": [
        ""
      ],
      "metadata": {
        "id": "wts91IGjVHeg"
      }
    },
    {
      "cell_type": "markdown",
      "source": [
        ""
      ],
      "metadata": {
        "id": "BCgPnxgsVkUd"
      }
    },
    {
      "cell_type": "code",
      "execution_count": 1,
      "metadata": {
        "id": "Lb0eskeURpfu"
      },
      "outputs": [],
      "source": [
        "import pandas as pd\n",
        "import numpy as np\n",
        "import matplotlib.pyplot as plt\n",
        "import seaborn as sb\n",
        "import requests as rq\n",
        "import zipfile as zf\n",
        "import os\n",
        "from io import BytesIO"
      ]
    },
    {
      "cell_type": "code",
      "source": [
        "url = 'https://download.inep.gov.br/microdados/microdados_enem_2020.zip'\n",
        "\n",
        "os.makedirs('./enem2020', exist_ok = True)\n",
        "\n",
        "filebytes = BytesIO(\n",
        "    rq.get(url).content\n",
        ")\n",
        "\n",
        "zip = zf.ZipFile(filebytes)\n",
        "zip.extractall('./enem2020')"
      ],
      "metadata": {
        "id": "OwdJFS8ATjfz"
      },
      "execution_count": null,
      "outputs": []
    },
    {
      "cell_type": "code",
      "source": [
        "dados = pd.read_csv('./enem2020/DADOS/MICRODADOS_ENEM_2020.csv', sep = ';', decimal = ',', encoding = 'ISO-8859-1')\n",
        "dados.head()"
      ],
      "metadata": {
        "id": "gc1TKevOYvnM"
      },
      "execution_count": null,
      "outputs": []
    }
  ]
}